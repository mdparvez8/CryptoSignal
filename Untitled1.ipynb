{
 "cells": [
  {
   "cell_type": "code",
   "execution_count": 1,
   "id": "9a10df9a",
   "metadata": {},
   "outputs": [],
   "source": [
    "import pandas as pd\n",
    "import websocket\n",
    "import json"
   ]
  },
  {
   "cell_type": "code",
   "execution_count": 2,
   "id": "a6977a1e",
   "metadata": {},
   "outputs": [],
   "source": [
    "from sqlalchemy import create_engine"
   ]
  },
  {
   "cell_type": "code",
   "execution_count": 3,
   "id": "cdec8ddd",
   "metadata": {},
   "outputs": [],
   "source": [
    "engine=create_engine('sqlite:///cryptoDB.db')"
   ]
  },
  {
   "cell_type": "code",
   "execution_count": 4,
   "id": "b7f92473",
   "metadata": {},
   "outputs": [],
   "source": [
    "stream='wss://stream.binance.com:9443/ws/!miniTicker@arr'"
   ]
  },
  {
   "cell_type": "code",
   "execution_count": null,
   "id": "17272765",
   "metadata": {},
   "outputs": [],
   "source": [
    "def on_message(ws,message):\n",
    "    msg=json.loads(message)\n",
    "    symbol=[x for x in msg if x['s'].endswith('USDT')]\n",
    "    frame=pd.DataFrame(symbol)[['E','s','c']]\n",
    "    frame.E=pd.to_datetime(frame.E,unit='ms')\n",
    "    frame.c=frame.c.astype(float)\n",
    "    for row in range(len(frame)):\n",
    "        data=frame[row:row+1]\n",
    "        data[['E','c']].to_sql(data['s'].values[0],engine,index=False,if_exists='append')\n",
    "\n",
    "ws=websocket.WebSocketApp(stream,on_message=on_message)\n",
    "ws.run_forever()"
   ]
  },
  {
   "cell_type": "code",
   "execution_count": null,
   "id": "3f60d565",
   "metadata": {},
   "outputs": [],
   "source": []
  },
  {
   "cell_type": "code",
   "execution_count": null,
   "id": "05edc52e",
   "metadata": {},
   "outputs": [],
   "source": []
  }
 ],
 "metadata": {
  "kernelspec": {
   "display_name": "Python 3 (ipykernel)",
   "language": "python",
   "name": "python3"
  },
  "language_info": {
   "codemirror_mode": {
    "name": "ipython",
    "version": 3
   },
   "file_extension": ".py",
   "mimetype": "text/x-python",
   "name": "python",
   "nbconvert_exporter": "python",
   "pygments_lexer": "ipython3",
   "version": "3.9.7"
  }
 },
 "nbformat": 4,
 "nbformat_minor": 5
}
